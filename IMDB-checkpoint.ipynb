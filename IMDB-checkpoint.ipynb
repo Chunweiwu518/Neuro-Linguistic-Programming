{
 "cells": [
  {
   "cell_type": "code",
   "execution_count": 2,
   "metadata": {
    "id": "b29DoeY_JNxF"
   },
   "outputs": [],
   "source": [
    "from keras.datasets import imdb\n",
    "(train_data, train_labels), (test_data, test_labels) = imdb.load_data(num_words=10000)"
   ]
  },
  {
   "cell_type": "code",
   "execution_count": 9,
   "metadata": {
    "colab": {
     "base_uri": "https://localhost:8080/"
    },
    "id": "kSOp2KMrrduo",
    "outputId": "e68b8590-59d3-4932-de1d-ac67a8e0ecd9"
   },
   "outputs": [
    {
     "name": "stdout",
     "output_type": "stream",
     "text": [
      "2.13.0\n"
     ]
    }
   ],
   "source": [
    "import tensorflow as tf\n",
    "from tensorflow import keras\n",
    "\n",
    "import numpy as np\n",
    "\n",
    "print(tf.__version__)"
   ]
  },
  {
   "cell_type": "code",
   "execution_count": 3,
   "metadata": {
    "colab": {
     "base_uri": "https://localhost:8080/"
    },
    "id": "7uCc3bAnq8PE",
    "outputId": "732b20a2-ee3f-4bc9-fa15-a05a9b31c554"
   },
   "outputs": [
    {
     "name": "stdout",
     "output_type": "stream",
     "text": [
      "Training entries: 25000, labels: 25000\n"
     ]
    }
   ],
   "source": [
    "print(\"Training entries: {}, labels: {}\".format(len(train_data), len(train_labels)))\n"
   ]
  },
  {
   "cell_type": "code",
   "execution_count": 4,
   "metadata": {
    "colab": {
     "base_uri": "https://localhost:8080/"
    },
    "id": "Q-ms1-hTrDwL",
    "outputId": "0b4dded0-d70a-4acd-a5b4-fa4452b71929"
   },
   "outputs": [
    {
     "name": "stdout",
     "output_type": "stream",
     "text": [
      "[1, 14, 22, 16, 43, 530, 973, 1622, 1385, 65, 458, 4468, 66, 3941, 4, 173, 36, 256, 5, 25, 100, 43, 838, 112, 50, 670, 2, 9, 35, 480, 284, 5, 150, 4, 172, 112, 167, 2, 336, 385, 39, 4, 172, 4536, 1111, 17, 546, 38, 13, 447, 4, 192, 50, 16, 6, 147, 2025, 19, 14, 22, 4, 1920, 4613, 469, 4, 22, 71, 87, 12, 16, 43, 530, 38, 76, 15, 13, 1247, 4, 22, 17, 515, 17, 12, 16, 626, 18, 2, 5, 62, 386, 12, 8, 316, 8, 106, 5, 4, 2223, 5244, 16, 480, 66, 3785, 33, 4, 130, 12, 16, 38, 619, 5, 25, 124, 51, 36, 135, 48, 25, 1415, 33, 6, 22, 12, 215, 28, 77, 52, 5, 14, 407, 16, 82, 2, 8, 4, 107, 117, 5952, 15, 256, 4, 2, 7, 3766, 5, 723, 36, 71, 43, 530, 476, 26, 400, 317, 46, 7, 4, 2, 1029, 13, 104, 88, 4, 381, 15, 297, 98, 32, 2071, 56, 26, 141, 6, 194, 7486, 18, 4, 226, 22, 21, 134, 476, 26, 480, 5, 144, 30, 5535, 18, 51, 36, 28, 224, 92, 25, 104, 4, 226, 65, 16, 38, 1334, 88, 12, 16, 283, 5, 16, 4472, 113, 103, 32, 15, 16, 5345, 19, 178, 32]\n"
     ]
    }
   ],
   "source": [
    "print(train_data[0])\n"
   ]
  },
  {
   "cell_type": "code",
   "execution_count": 5,
   "metadata": {
    "colab": {
     "base_uri": "https://localhost:8080/"
    },
    "id": "hC71hX1DrQCx",
    "outputId": "2f71fd88-7f81-428f-a96f-accbd4c1a147"
   },
   "outputs": [
    {
     "data": {
      "text/plain": [
       "(218, 189)"
      ]
     },
     "execution_count": 5,
     "metadata": {},
     "output_type": "execute_result"
    }
   ],
   "source": [
    "len(train_data[0]), len(train_data[1])\n"
   ]
  },
  {
   "cell_type": "code",
   "execution_count": 6,
   "metadata": {
    "colab": {
     "base_uri": "https://localhost:8080/"
    },
    "id": "ETczFML6rRs9",
    "outputId": "f97cbc39-381f-4a28-dfad-4fedb7095cd2"
   },
   "outputs": [
    {
     "name": "stdout",
     "output_type": "stream",
     "text": [
      "Downloading data from https://storage.googleapis.com/tensorflow/tf-keras-datasets/imdb_word_index.json\n",
      "1641221/1641221 [==============================] - 0s 0us/step\n"
     ]
    }
   ],
   "source": [
    "# 一个映射单词到整数索引的词典\n",
    "word_index = imdb.get_word_index()\n",
    "\n",
    "# 保留第一个索引\n",
    "word_index = {k:(v+3) for k,v in word_index.items()}\n",
    "word_index[\"<PAD>\"] = 0\n",
    "word_index[\"<START>\"] = 1\n",
    "word_index[\"<UNK>\"] = 2  # unknown\n",
    "word_index[\"<UNUSED>\"] = 3\n",
    "\n",
    "reverse_word_index = dict([(value, key) for (key, value) in word_index.items()])\n",
    "\n",
    "def decode_review(text):\n",
    "    return ' '.join([reverse_word_index.get(i, '?') for i in text])"
   ]
  },
  {
   "cell_type": "code",
   "execution_count": 7,
   "metadata": {
    "colab": {
     "base_uri": "https://localhost:8080/",
     "height": 192
    },
    "id": "BYTeGpOqrTLs",
    "outputId": "170fda85-ca32-44d1-b3d1-614ddbfa1b06"
   },
   "outputs": [
    {
     "data": {
      "application/vnd.google.colaboratory.intrinsic+json": {
       "type": "string"
      },
      "text/plain": [
       "\"<START> this film was just brilliant casting location scenery story direction everyone's really suited the part they played and you could just imagine being there robert <UNK> is an amazing actor and now the same being director <UNK> father came from the same scottish island as myself so i loved the fact there was a real connection with this film the witty remarks throughout the film were great it was just brilliant so much that i bought the film as soon as it was released for <UNK> and would recommend it to everyone to watch and the fly fishing was amazing really cried at the end it was so sad and you know what they say if you cry at a film it must have been good and this definitely was also <UNK> to the two little boy's that played the <UNK> of norman and paul they were just brilliant children are often left out of the <UNK> list i think because the stars that play them all grown up are such a big profile for the whole film but these children are amazing and should be praised for what they have done don't you think the whole story was so lovely because it was true and was someone's life after all that was shared with us all\""
      ]
     },
     "execution_count": 7,
     "metadata": {},
     "output_type": "execute_result"
    }
   ],
   "source": [
    "decode_review(train_data[0])\n"
   ]
  },
  {
   "cell_type": "code",
   "execution_count": 10,
   "metadata": {
    "id": "w4rM9FinrVHp"
   },
   "outputs": [],
   "source": [
    "train_data = keras.preprocessing.sequence.pad_sequences(train_data,\n",
    "                                                        value=word_index[\"<PAD>\"],\n",
    "                                                        padding='post',\n",
    "                                                        maxlen=256)\n",
    "\n",
    "test_data = keras.preprocessing.sequence.pad_sequences(test_data,\n",
    "                                                       value=word_index[\"<PAD>\"],\n",
    "                                                       padding='post',\n",
    "                                                       maxlen=256)"
   ]
  },
  {
   "cell_type": "code",
   "execution_count": 11,
   "metadata": {
    "colab": {
     "base_uri": "https://localhost:8080/"
    },
    "id": "I3GIVIeorX08",
    "outputId": "db4a00e0-e129-43fc-d854-fb6e10063906"
   },
   "outputs": [
    {
     "data": {
      "text/plain": [
       "(256, 256)"
      ]
     },
     "execution_count": 11,
     "metadata": {},
     "output_type": "execute_result"
    }
   ],
   "source": [
    "len(train_data[0]), len(train_data[1])\n"
   ]
  },
  {
   "cell_type": "code",
   "execution_count": 12,
   "metadata": {
    "colab": {
     "base_uri": "https://localhost:8080/"
    },
    "id": "Gk2gnvzmrinz",
    "outputId": "e2b956d5-f493-48d3-935e-d2be7c71a8a2"
   },
   "outputs": [
    {
     "name": "stdout",
     "output_type": "stream",
     "text": [
      "[   1   14   22   16   43  530  973 1622 1385   65  458 4468   66 3941\n",
      "    4  173   36  256    5   25  100   43  838  112   50  670    2    9\n",
      "   35  480  284    5  150    4  172  112  167    2  336  385   39    4\n",
      "  172 4536 1111   17  546   38   13  447    4  192   50   16    6  147\n",
      " 2025   19   14   22    4 1920 4613  469    4   22   71   87   12   16\n",
      "   43  530   38   76   15   13 1247    4   22   17  515   17   12   16\n",
      "  626   18    2    5   62  386   12    8  316    8  106    5    4 2223\n",
      " 5244   16  480   66 3785   33    4  130   12   16   38  619    5   25\n",
      "  124   51   36  135   48   25 1415   33    6   22   12  215   28   77\n",
      "   52    5   14  407   16   82    2    8    4  107  117 5952   15  256\n",
      "    4    2    7 3766    5  723   36   71   43  530  476   26  400  317\n",
      "   46    7    4    2 1029   13  104   88    4  381   15  297   98   32\n",
      " 2071   56   26  141    6  194 7486   18    4  226   22   21  134  476\n",
      "   26  480    5  144   30 5535   18   51   36   28  224   92   25  104\n",
      "    4  226   65   16   38 1334   88   12   16  283    5   16 4472  113\n",
      "  103   32   15   16 5345   19  178   32    0    0    0    0    0    0\n",
      "    0    0    0    0    0    0    0    0    0    0    0    0    0    0\n",
      "    0    0    0    0    0    0    0    0    0    0    0    0    0    0\n",
      "    0    0    0    0]\n"
     ]
    }
   ],
   "source": [
    "print(train_data[0])\n"
   ]
  },
  {
   "cell_type": "code",
   "execution_count": 13,
   "metadata": {
    "colab": {
     "base_uri": "https://localhost:8080/"
    },
    "id": "1j15TVpSr3F4",
    "outputId": "26b6f842-6f0f-4568-ba49-a48651cf7f3e"
   },
   "outputs": [
    {
     "name": "stdout",
     "output_type": "stream",
     "text": [
      "Model: \"sequential\"\n",
      "_________________________________________________________________\n",
      " Layer (type)                Output Shape              Param #   \n",
      "=================================================================\n",
      " embedding (Embedding)       (None, None, 16)          160000    \n",
      "                                                                 \n",
      " global_average_pooling1d (  (None, 16)                0         \n",
      " GlobalAveragePooling1D)                                         \n",
      "                                                                 \n",
      " dense (Dense)               (None, 16)                272       \n",
      "                                                                 \n",
      " dense_1 (Dense)             (None, 1)                 17        \n",
      "                                                                 \n",
      "=================================================================\n",
      "Total params: 160289 (626.13 KB)\n",
      "Trainable params: 160289 (626.13 KB)\n",
      "Non-trainable params: 0 (0.00 Byte)\n",
      "_________________________________________________________________\n"
     ]
    }
   ],
   "source": [
    "# 输入形状是用于电影评论的词汇数目（10,000 词）\n",
    "vocab_size = 10000\n",
    "\n",
    "model = keras.Sequential()\n",
    "model.add(keras.layers.Embedding(vocab_size, 16))\n",
    "model.add(keras.layers.GlobalAveragePooling1D())\n",
    "model.add(keras.layers.Dense(16, activation='relu'))\n",
    "model.add(keras.layers.Dense(1, activation='sigmoid'))\n",
    "\n",
    "model.summary()"
   ]
  },
  {
   "cell_type": "code",
   "execution_count": 14,
   "metadata": {
    "id": "PABzHgROr7fK"
   },
   "outputs": [],
   "source": [
    "model.compile(optimizer='adam',\n",
    "              loss='binary_crossentropy',\n",
    "              metrics=['accuracy'])"
   ]
  },
  {
   "cell_type": "code",
   "execution_count": 15,
   "metadata": {
    "id": "X1YTU6M-r9NB"
   },
   "outputs": [],
   "source": [
    "x_val = train_data[:10000]\n",
    "partial_x_train = train_data[10000:]\n",
    "\n",
    "y_val = train_labels[:10000]\n",
    "partial_y_train = train_labels[10000:]"
   ]
  },
  {
   "cell_type": "code",
   "execution_count": 16,
   "metadata": {
    "colab": {
     "base_uri": "https://localhost:8080/"
    },
    "id": "AxIL65mzr-yd",
    "outputId": "025470d4-04f2-439d-a17b-b2f19bf2d9fe"
   },
   "outputs": [
    {
     "name": "stdout",
     "output_type": "stream",
     "text": [
      "Epoch 1/40\n",
      "30/30 [==============================] - 3s 38ms/step - loss: 0.6920 - accuracy: 0.6099 - val_loss: 0.6902 - val_accuracy: 0.7160\n",
      "Epoch 2/40\n",
      "30/30 [==============================] - 1s 21ms/step - loss: 0.6863 - accuracy: 0.7173 - val_loss: 0.6814 - val_accuracy: 0.7310\n",
      "Epoch 3/40\n",
      "30/30 [==============================] - 1s 43ms/step - loss: 0.6725 - accuracy: 0.7611 - val_loss: 0.6637 - val_accuracy: 0.7334\n",
      "Epoch 4/40\n",
      "30/30 [==============================] - 2s 59ms/step - loss: 0.6472 - accuracy: 0.7782 - val_loss: 0.6341 - val_accuracy: 0.7755\n",
      "Epoch 5/40\n",
      "30/30 [==============================] - 1s 35ms/step - loss: 0.6089 - accuracy: 0.7959 - val_loss: 0.5938 - val_accuracy: 0.7910\n",
      "Epoch 6/40\n",
      "30/30 [==============================] - 1s 21ms/step - loss: 0.5614 - accuracy: 0.8155 - val_loss: 0.5484 - val_accuracy: 0.8106\n",
      "Epoch 7/40\n",
      "30/30 [==============================] - 1s 19ms/step - loss: 0.5098 - accuracy: 0.8363 - val_loss: 0.5018 - val_accuracy: 0.8256\n",
      "Epoch 8/40\n",
      "30/30 [==============================] - 1s 18ms/step - loss: 0.4599 - accuracy: 0.8528 - val_loss: 0.4594 - val_accuracy: 0.8387\n",
      "Epoch 9/40\n",
      "30/30 [==============================] - 1s 21ms/step - loss: 0.4151 - accuracy: 0.8677 - val_loss: 0.4230 - val_accuracy: 0.8489\n",
      "Epoch 10/40\n",
      "30/30 [==============================] - 1s 18ms/step - loss: 0.3771 - accuracy: 0.8777 - val_loss: 0.3940 - val_accuracy: 0.8550\n",
      "Epoch 11/40\n",
      "30/30 [==============================] - 1s 18ms/step - loss: 0.3454 - accuracy: 0.8855 - val_loss: 0.3718 - val_accuracy: 0.8598\n",
      "Epoch 12/40\n",
      "30/30 [==============================] - 1s 20ms/step - loss: 0.3191 - accuracy: 0.8929 - val_loss: 0.3526 - val_accuracy: 0.8661\n",
      "Epoch 13/40\n",
      "30/30 [==============================] - 1s 21ms/step - loss: 0.2970 - accuracy: 0.9001 - val_loss: 0.3387 - val_accuracy: 0.8693\n",
      "Epoch 14/40\n",
      "30/30 [==============================] - 1s 17ms/step - loss: 0.2784 - accuracy: 0.9046 - val_loss: 0.3269 - val_accuracy: 0.8732\n",
      "Epoch 15/40\n",
      "30/30 [==============================] - 1s 18ms/step - loss: 0.2617 - accuracy: 0.9101 - val_loss: 0.3179 - val_accuracy: 0.8775\n",
      "Epoch 16/40\n",
      "30/30 [==============================] - 1s 18ms/step - loss: 0.2471 - accuracy: 0.9137 - val_loss: 0.3096 - val_accuracy: 0.8786\n",
      "Epoch 17/40\n",
      "30/30 [==============================] - 1s 18ms/step - loss: 0.2336 - accuracy: 0.9196 - val_loss: 0.3036 - val_accuracy: 0.8801\n",
      "Epoch 18/40\n",
      "30/30 [==============================] - 1s 18ms/step - loss: 0.2218 - accuracy: 0.9236 - val_loss: 0.2984 - val_accuracy: 0.8814\n",
      "Epoch 19/40\n",
      "30/30 [==============================] - 1s 18ms/step - loss: 0.2107 - accuracy: 0.9271 - val_loss: 0.2948 - val_accuracy: 0.8821\n",
      "Epoch 20/40\n",
      "30/30 [==============================] - 1s 21ms/step - loss: 0.2019 - accuracy: 0.9316 - val_loss: 0.2923 - val_accuracy: 0.8835\n",
      "Epoch 21/40\n",
      "30/30 [==============================] - 1s 20ms/step - loss: 0.1910 - accuracy: 0.9366 - val_loss: 0.2898 - val_accuracy: 0.8834\n",
      "Epoch 22/40\n",
      "30/30 [==============================] - 1s 22ms/step - loss: 0.1827 - accuracy: 0.9397 - val_loss: 0.2874 - val_accuracy: 0.8848\n",
      "Epoch 23/40\n",
      "30/30 [==============================] - 1s 30ms/step - loss: 0.1742 - accuracy: 0.9453 - val_loss: 0.2868 - val_accuracy: 0.8853\n",
      "Epoch 24/40\n",
      "30/30 [==============================] - 1s 29ms/step - loss: 0.1667 - accuracy: 0.9473 - val_loss: 0.2860 - val_accuracy: 0.8834\n",
      "Epoch 25/40\n",
      "30/30 [==============================] - 1s 26ms/step - loss: 0.1600 - accuracy: 0.9493 - val_loss: 0.2860 - val_accuracy: 0.8863\n",
      "Epoch 26/40\n",
      "30/30 [==============================] - 1s 18ms/step - loss: 0.1535 - accuracy: 0.9517 - val_loss: 0.2858 - val_accuracy: 0.8861\n",
      "Epoch 27/40\n",
      "30/30 [==============================] - 1s 20ms/step - loss: 0.1465 - accuracy: 0.9548 - val_loss: 0.2865 - val_accuracy: 0.8860\n",
      "Epoch 28/40\n",
      "30/30 [==============================] - 1s 20ms/step - loss: 0.1407 - accuracy: 0.9581 - val_loss: 0.2879 - val_accuracy: 0.8851\n",
      "Epoch 29/40\n",
      "30/30 [==============================] - 1s 18ms/step - loss: 0.1353 - accuracy: 0.9596 - val_loss: 0.2887 - val_accuracy: 0.8851\n",
      "Epoch 30/40\n",
      "30/30 [==============================] - 1s 18ms/step - loss: 0.1295 - accuracy: 0.9625 - val_loss: 0.2903 - val_accuracy: 0.8860\n",
      "Epoch 31/40\n",
      "30/30 [==============================] - 1s 18ms/step - loss: 0.1240 - accuracy: 0.9648 - val_loss: 0.2920 - val_accuracy: 0.8854\n",
      "Epoch 32/40\n",
      "30/30 [==============================] - 1s 18ms/step - loss: 0.1191 - accuracy: 0.9667 - val_loss: 0.2934 - val_accuracy: 0.8855\n",
      "Epoch 33/40\n",
      "30/30 [==============================] - 1s 21ms/step - loss: 0.1143 - accuracy: 0.9686 - val_loss: 0.2956 - val_accuracy: 0.8844\n",
      "Epoch 34/40\n",
      "30/30 [==============================] - 1s 18ms/step - loss: 0.1100 - accuracy: 0.9693 - val_loss: 0.3005 - val_accuracy: 0.8815\n",
      "Epoch 35/40\n",
      "30/30 [==============================] - 1s 18ms/step - loss: 0.1056 - accuracy: 0.9716 - val_loss: 0.3011 - val_accuracy: 0.8848\n",
      "Epoch 36/40\n",
      "30/30 [==============================] - 1s 18ms/step - loss: 0.1015 - accuracy: 0.9729 - val_loss: 0.3045 - val_accuracy: 0.8840\n",
      "Epoch 37/40\n",
      "30/30 [==============================] - 1s 20ms/step - loss: 0.0977 - accuracy: 0.9741 - val_loss: 0.3070 - val_accuracy: 0.8836\n",
      "Epoch 38/40\n",
      "30/30 [==============================] - 1s 19ms/step - loss: 0.0937 - accuracy: 0.9744 - val_loss: 0.3096 - val_accuracy: 0.8826\n",
      "Epoch 39/40\n",
      "30/30 [==============================] - 1s 18ms/step - loss: 0.0900 - accuracy: 0.9776 - val_loss: 0.3139 - val_accuracy: 0.8815\n",
      "Epoch 40/40\n",
      "30/30 [==============================] - 1s 18ms/step - loss: 0.0872 - accuracy: 0.9783 - val_loss: 0.3171 - val_accuracy: 0.8811\n"
     ]
    }
   ],
   "source": [
    "history = model.fit(partial_x_train,\n",
    "                    partial_y_train,\n",
    "                    epochs=40,\n",
    "                    batch_size=512,\n",
    "                    validation_data=(x_val, y_val),\n",
    "                    verbose=1)"
   ]
  },
  {
   "cell_type": "code",
   "execution_count": 17,
   "metadata": {
    "colab": {
     "base_uri": "https://localhost:8080/"
    },
    "id": "ctUBXQ_Ar_9h",
    "outputId": "1dfad71c-cc66-46b8-8350-bc6d15181da0"
   },
   "outputs": [
    {
     "name": "stdout",
     "output_type": "stream",
     "text": [
      "782/782 - 1s - loss: 0.3393 - accuracy: 0.8709 - 1s/epoch - 2ms/step\n",
      "[0.33934280276298523, 0.8708800077438354]\n"
     ]
    }
   ],
   "source": [
    "results = model.evaluate(test_data,  test_labels, verbose=2)\n",
    "\n",
    "print(results)"
   ]
  },
  {
   "cell_type": "code",
   "execution_count": 18,
   "metadata": {
    "colab": {
     "base_uri": "https://localhost:8080/"
    },
    "id": "ytabxjygsA_Q",
    "outputId": "4083a3d4-3d7f-4977-bd1b-e1c155875f0e"
   },
   "outputs": [
    {
     "data": {
      "text/plain": [
       "dict_keys(['loss', 'accuracy', 'val_loss', 'val_accuracy'])"
      ]
     },
     "execution_count": 18,
     "metadata": {},
     "output_type": "execute_result"
    }
   ],
   "source": [
    "history_dict = history.history\n",
    "history_dict.keys()"
   ]
  },
  {
   "cell_type": "code",
   "execution_count": 19,
   "metadata": {
    "colab": {
     "base_uri": "https://localhost:8080/",
     "height": 472
    },
    "id": "wu4vvsXMsxhk",
    "outputId": "53e7f342-7c02-4578-f1d7-bfc2d323b5b7"
   },
   "outputs": [
    {
     "data": {
      "image/png": "[encoded data removed]",
      "text/plain": [
       "<Figure size 640x480 with 1 Axes>"
      ]
     },
     "metadata": {},
     "output_type": "display_data"
    }
   ],
   "source": [
    "import matplotlib.pyplot as plt\n",
    "\n",
    "acc = history_dict['accuracy']\n",
    "val_acc = history_dict['val_accuracy']\n",
    "loss = history_dict['loss']\n",
    "val_loss = history_dict['val_loss']\n",
    "\n",
    "epochs = range(1, len(acc) + 1)\n",
    "\n",
    "# “bo”代表 \"蓝点\"\n",
    "plt.plot(epochs, loss, 'bo', label='Training loss')\n",
    "# b代表“蓝色实线”\n",
    "plt.plot(epochs, val_loss, 'b', label='Validation loss')\n",
    "plt.title('Training and validation loss')\n",
    "plt.xlabel('Epochs')\n",
    "plt.ylabel('Loss')\n",
    "plt.legend()\n",
    "\n",
    "plt.show()"
   ]
  },
  {
   "cell_type": "code",
   "execution_count": 20,
   "metadata": {
    "colab": {
     "base_uri": "https://localhost:8080/",
     "height": 472
    },
    "id": "GJYyaeNxs0-0",
    "outputId": "21d264a1-12c5-473e-e9e5-7d0f43f47fbd"
   },
   "outputs": [
    {
     "data": {
      "image/png": "[encoded data removed]",
      "text/plain": [
       "<Figure size 640x480 with 1 Axes>"
      ]
     },
     "metadata": {},
     "output_type": "display_data"
    }
   ],
   "source": [
    "plt.clf()   # 清除数字\n",
    "\n",
    "plt.plot(epochs, acc, 'bo', label='Training acc')\n",
    "plt.plot(epochs, val_acc, 'b', label='Validation acc')\n",
    "plt.title('Training and validation accuracy')\n",
    "plt.xlabel('Epochs')\n",
    "plt.ylabel('Accuracy')\n",
    "plt.legend()\n",
    "\n",
    "plt.show()"
   ]
  },
  {
   "cell_type": "code",
   "execution_count": null,
   "metadata": {
    "id": "lGEUQ2QNs2H7"
   },
   "outputs": [],
   "source": []
  }
 ],
 "metadata": {
  "colab": {
   "provenance": []
  },
  "kernelspec": {
   "display_name": "Python 3 (ipykernel)",
   "language": "python",
   "name": "python3"
  },
  "language_info": {
   "codemirror_mode": {
    "name": "ipython",
    "version": 3
   },
   "file_extension": ".py",
   "mimetype": "text/x-python",
   "name": "python",
   "nbconvert_exporter": "python",
   "pygments_lexer": "ipython3",
   "version": "3.11.5"
  }
 },
 "nbformat": 4,
 "nbformat_minor": 1
}
